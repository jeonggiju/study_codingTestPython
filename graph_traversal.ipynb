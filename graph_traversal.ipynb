{
 "cells": [
  {
   "cell_type": "markdown",
   "metadata": {},
   "source": [
    "## DFS/BFS\n",
    "\n",
    "- [1. DFS와 BFS (1260)](https://www.acmicpc.net/problem/1260)\n",
    "- [2. 미로 탐색 (2178)](https://www.acmicpc.net/problem/2178)\n",
    "- [3. 단지번호붙이기 (2667)](https://www.acmicpc.net/problem/2667)\n",
    "- [4. 숨바꼭질 (1697)](https://www.acmicpc.net/problem/1697)\n",
    "\n",
    "---\n"
   ]
  },
  {
   "cell_type": "markdown",
   "metadata": {},
   "source": [
    "### [1. DFS와 BFS (1260)](https://www.acmicpc.net/problem/1260)\n",
    "\n",
    "그래프를 DFS로 탐색한 결과와 BFS로 탐색한 결과를 출력하는 프로그램을 작성하시오. 단, 방문할 수 있는 정점이 여러 개인 경우에는 정점 번호가 작은 것을 먼저 방문하고, 더 이상 방문할 수 있는 점이 없는 경우 종료한다. 정점 번호는 1번부터 N번까지이다."
   ]
  },
  {
   "cell_type": "code",
   "execution_count": null,
   "metadata": {},
   "outputs": [],
   "source": [
    "import sys\n",
    "from queue import Queue\n",
    "\n",
    "def dfs(v):\n",
    "    visited[v] = True\n",
    "    print(v, end=' ')\n",
    "    for w in adj[v]:\n",
    "        if not visited[w]:\n",
    "            dfs(w)\n",
    "        \n",
    "def bfs(v):\n",
    "    q.put(v)\n",
    "    visited[v] = True\n",
    "    \n",
    "    while not q.empty():\n",
    "        v = q.get()\n",
    "        print(v, end=' ')\n",
    "        for w in adj[v]:\n",
    "            if not visited[w]:\n",
    "                q.put(w)\n",
    "                visited[w] = True\n",
    "\n",
    "v, e, s = map(int, sys.stdin.readline().split())\n",
    "adj = [[] for _ in range(v+1)]\n",
    "\n",
    "for _ in range(e):\n",
    "    a, b = map(int, sys.stdin.readline().split())\n",
    "    adj[a].append(b)\n",
    "    adj[b].append(a)\n",
    "\n",
    "for li in adj:\n",
    "    li.sort()\n",
    "\n",
    "visited = [False] * (v+1)\n",
    "dfs(s)\n",
    "\n",
    "print()\n",
    "\n",
    "visited = [False] * (v+1)\n",
    "q = Queue()\n",
    "bfs(s)\n"
   ]
  },
  {
   "cell_type": "markdown",
   "metadata": {},
   "source": [
    "### [2. 미로 탐색 (2178)](https://www.acmicpc.net/problem/2178)\n",
    "\n",
    "N x M 크기의 배열로 표현되는 미로가 있다. 미로에서 1은 이동할 수 있는 칸을 나타내고, 0은 이동할 수 없는 칸을 나타낸다. 이러한 미로가 주어졌을 때, (1, 1)에서 출발하여 (N, M)의 위치로 이동할 때 지나야 하는 최소의 칸 수를 구하는 프로그램을 작성하시오. 한 칸에서 다른 칸으로 이동할 때, 서로 인접한 칸으로만 이동할 수 있다."
   ]
  },
  {
   "cell_type": "markdown",
   "metadata": {},
   "source": [
    "#### 1st Trial &mdash; Failed\n"
   ]
  },
  {
   "cell_type": "code",
   "execution_count": null,
   "metadata": {},
   "outputs": [],
   "source": [
    "import sys\n",
    "from queue import Queue\n",
    "\n",
    "if __name__ == \"__main__\":\n",
    "    n, m = map(int, sys.stdin.readline().split())\n",
    "\n",
    "    maze = []\n",
    "    for _ in range(n):\n",
    "        row = sys.stdin.readline().strip()\n",
    "        int_row = [int(ch) for ch in row]\n",
    "        maze.append(int_row)\n",
    "\n",
    "    directions = [(0, -1), (0, 1), (-1, 0), (1, 0)]\n",
    "    q = Queue()  # x, y, distance to (x, y)\n",
    "    q.put((0, 0, 1))\n",
    "\n",
    "    while True:\n",
    "        x, y, dist = q.get()\n",
    "        if x == n-1 and y == m-1:\n",
    "            break\n",
    "\n",
    "        for dx, dy in directions:\n",
    "            nx = x + dx\n",
    "            ny = y + dy\n",
    "            \n",
    "            if nx < 0 or nx >= n or ny < 0 or ny >= m:\n",
    "                continue\n",
    "            \n",
    "            if maze[nx][ny] == 1:\n",
    "                q.put((nx, ny, dist + 1))\n",
    "\n",
    "    print(dist)\n"
   ]
  },
  {
   "cell_type": "markdown",
   "metadata": {},
   "source": [
    "The primary issue with your code is that it lacks a mechanism to prevent revisiting the cells that have already been visited. This omission can lead to an infinite loop because the algorithm might cycle back to cells it has already processed, especially in a maze with loops or multiple paths to the same point. To resolve this, you should mark cells as visited once they have been added to the queue."
   ]
  },
  {
   "cell_type": "markdown",
   "metadata": {},
   "source": [
    "#### 2nd Trial\n"
   ]
  },
  {
   "cell_type": "code",
   "execution_count": null,
   "metadata": {},
   "outputs": [],
   "source": [
    "import sys\n",
    "from queue import Queue\n",
    "\n",
    "n, m = map(int, sys.stdin.readline().split())\n",
    "\n",
    "maze = []\n",
    "for _ in range(n):\n",
    "    row = sys.stdin.readline().strip()\n",
    "    int_row = [int(ch) for ch in row]\n",
    "    maze.append(int_row)\n",
    "\n",
    "directions = [(0, -1), (0, 1), (-1, 0), (1, 0)] # left, right, up, down\n",
    "visited = [[False for _ in range(m)] for _ in range(n)]\n",
    "q = Queue()  # x, y, distance (+1) to (x, y)\n",
    "\n",
    "q.put((0, 0, 1))\n",
    "visited[0][0] = True\n",
    "\n",
    "while True:\n",
    "    x, y, dist = q.get()\n",
    "    if x == n-1 and y == m-1:\n",
    "        break\n",
    "\n",
    "    for dx, dy in directions:\n",
    "        nx = x + dx\n",
    "        ny = y + dy\n",
    "        \n",
    "        if nx < 0 or nx >= n or ny < 0 or ny >= m:\n",
    "            continue\n",
    "\n",
    "        if not visited[nx][ny] and maze[nx][ny] == 1:\n",
    "            q.put((nx, ny, dist + 1))\n",
    "            visited[nx][ny] = True\n",
    "\n",
    "print(dist)\n"
   ]
  },
  {
   "cell_type": "markdown",
   "metadata": {},
   "source": [
    "#### 2nd Solution\n",
    "\n",
    "- Instead of using the `visited` array, modify it to use the `dist` array to handle both visit status and distance at the same time."
   ]
  },
  {
   "cell_type": "code",
   "execution_count": null,
   "metadata": {},
   "outputs": [],
   "source": [
    "import sys\n",
    "from queue import Queue\n",
    "\n",
    "n, m = map(int, sys.stdin.readline().split())\n",
    "\n",
    "maze = []\n",
    "for _ in range(n):\n",
    "    row = sys.stdin.readline().strip()\n",
    "    int_row = [int(ch) for ch in row]\n",
    "    maze.append(int_row)\n",
    "\n",
    "directions = [(0, -1), (0, 1), (-1, 0), (1, 0)] # left, right, up, down\n",
    "dist = [[-1 for _ in range(m)] for _ in range(n)]\n",
    "q = Queue()\n",
    "\n",
    "q.put((0, 0))\n",
    "dist[0][0] = 1\n",
    "\n",
    "while not q.empty():\n",
    "    x, y = q.get()\n",
    "    if x == n-1 and y == m-1:\n",
    "        break\n",
    "\n",
    "    for dx, dy in directions:\n",
    "        nx = x + dx\n",
    "        ny = y + dy\n",
    "\n",
    "        if 0 <= nx < n and 0 <= ny < m and dist[nx][ny] < 0 and maze[nx][ny] == 1:\n",
    "            q.put((nx, ny))\n",
    "            dist[nx][ny] = dist[x][y] + 1\n",
    "\n",
    "print(dist[n-1][m-1])\n"
   ]
  },
  {
   "cell_type": "markdown",
   "metadata": {},
   "source": [
    "### [3. 단지번호붙이기 (2667)](https://www.acmicpc.net/problem/2667)\n",
    "\n",
    "<그림 1>과 같이 정사각형 모양의 지도가 있다. 1은 집이 있는 곳을, 0은 집이 없는 곳을 나타낸다. 철수는 이 지도를 가지고 연결된 집의 모임인 단지를 정의하고, 단지에 번호를 붙이려 한다. 여기서 연결되었다는 것은 어떤 집이 좌우, 혹은 아래위로 다른 집이 있는 경우를 말한다. 대각선상에 집이 있는 경우는 연결된 것이 아니다. <그림 2>는 <그림 1>을 단지별로 번호를 붙인 것이다. 지도를 입력하여 단지수를 출력하고, 각 단지에 속하는 집의 수를 오름차순으로 정렬하여 출력하는 프로그램을 작성하시오.\n"
   ]
  },
  {
   "cell_type": "markdown",
   "metadata": {},
   "source": [
    "#### 1st Trial\n"
   ]
  },
  {
   "cell_type": "code",
   "execution_count": null,
   "metadata": {},
   "outputs": [],
   "source": [
    "import sys\n",
    "\n",
    "def dfs(x, y, id):\n",
    "    ids[x][y] = id\n",
    "    if id in aux.keys(): aux[id] += 1\n",
    "    else: aux[id] = 1\n",
    "\n",
    "    for dx, dy in directions:\n",
    "        nx = x + dx\n",
    "        ny = y + dy\n",
    "        \n",
    "        if 0 <= nx < n and 0 <= ny < n and board[nx][ny] == 1 and ids[nx][ny] < 0:\n",
    "            dfs(nx, ny, id)\n",
    "\n",
    "if __name__ == \"__main__\":\n",
    "    n = int(sys.stdin.readline().strip())\n",
    "    board = []\n",
    "    for _ in range(n):\n",
    "        row = sys.stdin.readline().strip()\n",
    "        int_row = [int(ch) for ch in row]\n",
    "        board.append(int_row)\n",
    "\n",
    "    ids = [[-1 for _ in range(n)] for _ in range(n)]\n",
    "    directions = [(0, -1), (0, 1), (-1, 0), (1, 0)]\n",
    "    aux = {}\n",
    "    count = 0\n",
    "    \n",
    "    for i in range(n * n):\n",
    "        x = i // n\n",
    "        y = i % n\n",
    "        if board[x][y] == 1 and ids[x][y] < 0:\n",
    "            dfs(x, y, count)\n",
    "            count += 1\n",
    "\n",
    "    print(count)\n",
    "    li = list(aux.values())\n",
    "    li.sort()\n",
    "    for i in range(len(li)):\n",
    "        print(li[i])"
   ]
  },
  {
   "cell_type": "markdown",
   "metadata": {},
   "source": [
    "#### Refactoring\n",
    "\n",
    "- Use a list `complexes` to keep track of the number of houses in each complex directly, reducing the need for a dictionary and simplifying the logic."
   ]
  },
  {
   "cell_type": "code",
   "execution_count": null,
   "metadata": {},
   "outputs": [],
   "source": [
    "import sys\n",
    "\n",
    "def dfs(x, y, id):\n",
    "    ids[x][y] = id\n",
    "    complexes[id] += 1\n",
    "\n",
    "    for dx, dy in directions:\n",
    "        nx, ny = x + dx, y + dy\n",
    "        if 0 <= nx < n and 0 <= ny < n and board[nx][ny] == 1 and ids[nx][ny] < 0:\n",
    "            dfs(nx, ny, id)\n",
    "\n",
    "if __name__ == \"__main__\":\n",
    "    n = int(sys.stdin.readline().strip())\n",
    "    board = [[int(ch) for ch in sys.stdin.readline().strip()] for _ in range(n)]\n",
    "\n",
    "    ids = [[-1] * n for _ in range(n)]\n",
    "    directions = [(0, -1), (0, 1), (-1, 0), (1, 0)]\n",
    "    complexes = []\n",
    "    count = 0\n",
    "    \n",
    "    for i in range(n * n):\n",
    "        x, y = i // n, i % n\n",
    "        if board[x][y] == 1 and ids[x][y] < 0:\n",
    "            complexes.append(0)  # Initialize new complex size\n",
    "            dfs(x, y, count)\n",
    "            count += 1\n",
    "\n",
    "    print(count)\n",
    "    for size in sorted(complexes):\n",
    "        print(size)\n"
   ]
  },
  {
   "cell_type": "markdown",
   "metadata": {},
   "source": [
    "### [4. 숨바꼭질 (1697)](https://www.acmicpc.net/problem/1697)\n",
    "\n",
    "수빈이는 동생과 숨바꼭질을 하고 있다. 수빈이는 현재 점 N(0 ≤ N ≤ 100,000)에 있고, 동생은 점 K(0 ≤ K ≤ 100,000)에 있다. 수빈이는 걷거나 순간이동을 할 수 있다. 만약, 수빈이의 위치가 X일 때 걷는다면 1초 후에 X-1 또는 X+1로 이동하게 된다. 순간이동을 하는 경우에는 1초 후에 2*X의 위치로 이동하게 된다.\n",
    "\n",
    "수빈이와 동생의 위치가 주어졌을 때, 수빈이가 동생을 찾을 수 있는 가장 빠른 시간이 몇 초 후인지 구하는 프로그램을 작성하시오.\n"
   ]
  },
  {
   "cell_type": "markdown",
   "metadata": {},
   "source": [
    "#### 1st Solution &mdash; Failed (Runtime Error: IndexError)"
   ]
  },
  {
   "cell_type": "code",
   "execution_count": null,
   "metadata": {},
   "outputs": [],
   "source": [
    "import sys\n",
    "from queue import Queue\n",
    "\n",
    "n, k = map(int, sys.stdin.readline().split())\n",
    "\n",
    "m = max(n, k) * 2\n",
    "dist = [-1] * m\n",
    "\n",
    "q = Queue()\n",
    "q.put(n)\n",
    "dist[n] = 0\n",
    "\n",
    "while q.qsize() > 0:\n",
    "    x = q.get()\n",
    "    if x == k: break\n",
    "\n",
    "    adj = [x-1, x+1, x*2]\n",
    "    for nx in adj:\n",
    "        if 0 <= nx < m and dist[nx] < 0:\n",
    "            q.put(nx)\n",
    "            dist[nx] = dist[x] + 1\n",
    "\n",
    "print(dist[k])\n"
   ]
  },
  {
   "cell_type": "markdown",
   "metadata": {},
   "source": [
    "The runtime error in your code is likely due to how the maximum range `m` is defined. Specifically, if `n` or `k` is `0`, then `m = max(n, k) * 2` might not be sufficient to include all possible positions `k` can reach, especially when `n` is much larger than `k` or vice versa. This is because the algorithm potentially explores positions beyond `k`, up to `max(n, k) * 2`, and if `k` is significantly smaller than `n`, you might not allocate enough space in `dist`.\n",
    "\n",
    "To fix this issue, you should ensure that `m` is sufficiently large to cover all cases. Since the problem's constraints allow `n` and `k` to be as high as `100,000`, and you might double `k` (or `n`), setting `m` to a fixed value that's guaranteed to be out of bounds, like `100001` (the problem's constraint), should prevent the runtime error."
   ]
  },
  {
   "cell_type": "markdown",
   "metadata": {},
   "source": [
    "#### 2nd Solution"
   ]
  },
  {
   "cell_type": "code",
   "execution_count": null,
   "metadata": {},
   "outputs": [],
   "source": [
    "import sys\n",
    "from queue import Queue\n",
    "\n",
    "SIZE = 100_000 + 1\n",
    "\n",
    "n, k = map(int, sys.stdin.readline().split())\n",
    "\n",
    "dist = [-1] * SIZE\n",
    "q = Queue()\n",
    "\n",
    "q.put(n)\n",
    "dist[n] = 0\n",
    "\n",
    "while not q.empty():\n",
    "    x = q.get()\n",
    "    if x == k: break\n",
    "\n",
    "    for nx in (x-1, x+1, x*2):\n",
    "        if 0 <= nx < SIZE and dist[nx] < 0:\n",
    "            q.put(nx)\n",
    "            dist[nx] = dist[x] + 1\n",
    "\n",
    "print(dist[k])\n"
   ]
  },
  {
   "cell_type": "code",
   "execution_count": null,
   "metadata": {},
   "outputs": [],
   "source": []
  }
 ],
 "metadata": {
  "language_info": {
   "name": "python"
  }
 },
 "nbformat": 4,
 "nbformat_minor": 2
}
